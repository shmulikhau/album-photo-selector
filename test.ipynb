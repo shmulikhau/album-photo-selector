{
 "cells": [
  {
   "cell_type": "markdown",
   "id": "a4d30957",
   "metadata": {},
   "source": [
    "load images from 'test_images'"
   ]
  },
  {
   "cell_type": "code",
   "execution_count": null,
   "id": "1edc5e04",
   "metadata": {},
   "outputs": [],
   "source": [
    "# import\n",
    "from src.image_clusterer.k_means import KMeansClusterer\n",
    "from src.image_embedder.jinaclip_embedder import JinaClipEmbedder"
   ]
  },
  {
   "cell_type": "code",
   "execution_count": null,
   "id": "70c9417b",
   "metadata": {},
   "outputs": [],
   "source": [
    "k_means_clusterer = KMeansClusterer(1024)\n",
    "jina_clip_embedder = JinaClipEmbedder()"
   ]
  },
  {
   "cell_type": "code",
   "execution_count": null,
   "id": "eca3f2ba",
   "metadata": {},
   "outputs": [],
   "source": [
    "import os\n",
    "images_paths = os.listdir('test_images')\n",
    "images_paths"
   ]
  },
  {
   "cell_type": "code",
   "execution_count": null,
   "id": "c645bc6c",
   "metadata": {},
   "outputs": [],
   "source": [
    "# load and embbed all images\n",
    "from PIL import Image\n",
    "from tqdm import tqdm\n",
    "\n",
    "for path in tqdm(images_paths):\n",
    "    img = Image.open(f'test_images/{path}')\n",
    "    feature = jina_clip_embedder.get_image_embeddings([img])[0]\n",
    "    k_means_clusterer.push(feature)"
   ]
  },
  {
   "cell_type": "code",
   "execution_count": null,
   "id": "ba1d073c",
   "metadata": {},
   "outputs": [],
   "source": [
    "# clustering\n",
    "k_means_clusterer.make_cluster(12)"
   ]
  },
  {
   "cell_type": "code",
   "execution_count": null,
   "id": "2d189b8e",
   "metadata": {},
   "outputs": [],
   "source": [
    "k_means_clusterer.vectors2kernels"
   ]
  },
  {
   "cell_type": "code",
   "execution_count": null,
   "id": "ca9b8440",
   "metadata": {},
   "outputs": [],
   "source": [
    "def show_kernel(x):\n",
    "    for i, k in enumerate(k_means_clusterer.vectors2kernels):\n",
    "        if k == x:\n",
    "            display(Image.open(f'test_images/{images_paths[i]}'))\n",
    "            yield\n",
    "g_show_kernel = show_kernel(7)"
   ]
  },
  {
   "cell_type": "code",
   "execution_count": null,
   "id": "449b5fc1",
   "metadata": {},
   "outputs": [],
   "source": [
    "next(g_show_kernel)"
   ]
  }
 ],
 "metadata": {
  "kernelspec": {
   "display_name": "base",
   "language": "python",
   "name": "python3"
  },
  "language_info": {
   "codemirror_mode": {
    "name": "ipython",
    "version": 3
   },
   "file_extension": ".py",
   "mimetype": "text/x-python",
   "name": "python",
   "nbconvert_exporter": "python",
   "pygments_lexer": "ipython3",
   "version": "3.11.13"
  }
 },
 "nbformat": 4,
 "nbformat_minor": 5
}
